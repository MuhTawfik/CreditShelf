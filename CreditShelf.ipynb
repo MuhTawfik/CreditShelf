{
 "cells": [
  {
   "cell_type": "markdown",
   "metadata": {},
   "source": [
    "<div style=\"width:20%px;margin-top:20px;margin-bottom:20px;\"><img src=\"https://www.creditshelf.com/hubfs/assets/images/creditshelf-logo-2020.svg\"  style=\"float:left;width:150px;\" width=\"150\"></div>\n",
    "<div style=\"width:80%px; text-align:left;float:right;word-wrap:break-word;font-size:x-Large;font-weight:bold;color:gray;border:1px gray;margin-top:20px;margin-bottom:20px;\">\n",
    "CreditShelf Code Challenge V0.2 Java/Python Senior Developer\n",
    "</div>  "
   ]
  },
  {
   "cell_type": "markdown",
   "metadata": {},
   "source": [
    "### Create the hide function to hide and show cells on Jupyter notebook for better visualization "
   ]
  },
  {
   "cell_type": "code",
   "execution_count": 1,
   "metadata": {
    "scrolled": true
   },
   "outputs": [
    {
     "data": {
      "text/html": [
       "\n",
       "        <script>\n",
       "            function code_toggle_12782173612258030657() {\n",
       "                $('div.cell.code_cell.rendered.selected').find('div.input').toggle();\n",
       "            }\n",
       "\n",
       "            \n",
       "        </script>\n",
       "\n",
       "        <a href=\"javascript:code_toggle_12782173612258030657()\">Hide function</a>\n",
       "    "
      ],
      "text/plain": [
       "<IPython.core.display.HTML object>"
      ]
     },
     "execution_count": 1,
     "metadata": {},
     "output_type": "execute_result"
    }
   ],
   "source": [
    "#import html library to be able to read html tags\n",
    "from IPython.display import HTML\n",
    "import random\n",
    "\n",
    "#function to hide and show code block\n",
    "def hide_toggle(name,for_next=False):\n",
    "    this_cell = \"\"\"$('div.cell.code_cell.rendered.selected')\"\"\"\n",
    "    next_cell = this_cell + '.next()'\n",
    "\n",
    "    toggle_text = name\n",
    "    target_cell = this_cell  # target cell to control with toggle\n",
    "    js_hide_current = ''  #  JS to permanently hide code in current cell (only when toggling next cell)\n",
    "\n",
    "    if for_next:\n",
    "        target_cell = next_cell\n",
    "        toggle_text += ' next cell'\n",
    "        js_hide_current = this_cell + '.find(\"div.input\").hide();'\n",
    "\n",
    "    js_f_name = 'code_toggle_{}'.format(str(random.randint(1,2**64)))\n",
    "\n",
    "    html = \"\"\"\n",
    "        <script>\n",
    "            function {f_name}() {{\n",
    "                {cell_selector}.find('div.input').toggle();\n",
    "            }}\n",
    "\n",
    "            {js_hide_current}\n",
    "        </script>\n",
    "\n",
    "        <a href=\"javascript:{f_name}()\">{toggle_text}</a>\n",
    "    \"\"\".format(\n",
    "        f_name=js_f_name,\n",
    "        cell_selector=target_cell,\n",
    "        js_hide_current=js_hide_current, \n",
    "        toggle_text=toggle_text\n",
    "    )\n",
    "\n",
    "    return HTML(html)\n",
    "hide_toggle('Hide function')"
   ]
  },
  {
   "cell_type": "markdown",
   "metadata": {},
   "source": [
    "### importing the required Libraries"
   ]
  },
  {
   "cell_type": "code",
   "execution_count": 2,
   "metadata": {
    "scrolled": true
   },
   "outputs": [
    {
     "name": "stderr",
     "output_type": "stream",
     "text": [
      "/usr/local/lib/python3.7/site-packages/geopandas/_compat.py:88: UserWarning: The Shapely GEOS version (3.8.0-CAPI-1.13.1 ) is incompatible with the GEOS version PyGEOS was compiled with (3.8.1-CAPI-1.13.3). Conversions between both will be slow.\n",
      "  shapely_geos_version, geos_capi_version_string\n"
     ]
    },
    {
     "data": {
      "text/html": [
       "\n",
       "        <script>\n",
       "            function code_toggle_7360835103283852941() {\n",
       "                $('div.cell.code_cell.rendered.selected').find('div.input').toggle();\n",
       "            }\n",
       "\n",
       "            \n",
       "        </script>\n",
       "\n",
       "        <a href=\"javascript:code_toggle_7360835103283852941()\">Import Libraries</a>\n",
       "    "
      ],
      "text/plain": [
       "<IPython.core.display.HTML object>"
      ]
     },
     "execution_count": 2,
     "metadata": {},
     "output_type": "execute_result"
    }
   ],
   "source": [
    "#import required libraries\n",
    "import numpy as np\n",
    "import pandas as pd\n",
    "import matplotlib.pyplot as plt\n",
    "%matplotlib inline\n",
    "\n",
    "  \n",
    "# for drop down and other widget\n",
    "from ipywidgets import widgets\n",
    "from IPython.display import display, clear_output\n",
    "\n",
    "#database libraries\n",
    "import psycopg2\n",
    "import sqlalchemy as sa \n",
    "\n",
    "#map library\n",
    "import geopandas as gpd\n",
    "from shapely.geometry import *\n",
    "\n",
    "hide_toggle('Import Libraries')\n"
   ]
  },
  {
   "cell_type": "code",
   "execution_count": 3,
   "metadata": {},
   "outputs": [
    {
     "data": {
      "text/html": [
       "\n",
       "        <script>\n",
       "            function code_toggle_16729352073985956353() {\n",
       "                $('div.cell.code_cell.rendered.selected').find('div.input').toggle();\n",
       "            }\n",
       "\n",
       "            \n",
       "        </script>\n",
       "\n",
       "        <a href=\"javascript:code_toggle_16729352073985956353()\">Load Data</a>\n",
       "    "
      ],
      "text/plain": [
       "<IPython.core.display.HTML object>"
      ]
     },
     "execution_count": 3,
     "metadata": {},
     "output_type": "execute_result"
    }
   ],
   "source": [
    "#loading the csv data\n",
    "Motor_vehicle_ds=pd.read_csv('Motor_Vehicle_Collisions_-_Crashes.csv')\n",
    "\n",
    "hide_toggle('Load Data')"
   ]
  },
  {
   "cell_type": "markdown",
   "metadata": {},
   "source": [
    "### check the dataset"
   ]
  },
  {
   "cell_type": "code",
   "execution_count": 4,
   "metadata": {},
   "outputs": [
    {
     "name": "stdout",
     "output_type": "stream",
     "text": [
      "<class 'pandas.core.frame.DataFrame'>\n",
      "RangeIndex: 412575 entries, 0 to 412574\n",
      "Data columns (total 29 columns):\n",
      " #   Column                         Non-Null Count   Dtype  \n",
      "---  ------                         --------------   -----  \n",
      " 0   CRASH DATE                     412575 non-null  object \n",
      " 1   CRASH TIME                     412575 non-null  object \n",
      " 2   BOROUGH                        267336 non-null  object \n",
      " 3   ZIP CODE                       267266 non-null  float64\n",
      " 4   LATITUDE                       379224 non-null  float64\n",
      " 5   LONGITUDE                      379224 non-null  float64\n",
      " 6   LOCATION                       379224 non-null  object \n",
      " 7   ON STREET NAME                 311091 non-null  object \n",
      " 8   CROSS STREET NAME              201138 non-null  object \n",
      " 9   OFF STREET NAME                101378 non-null  object \n",
      " 10  NUMBER OF PERSONS INJURED      412572 non-null  float64\n",
      " 11  NUMBER OF PERSONS KILLED       412567 non-null  float64\n",
      " 12  NUMBER OF PEDESTRIANS INJURED  412574 non-null  float64\n",
      " 13  NUMBER OF PEDESTRIANS KILLED   412574 non-null  float64\n",
      " 14  NUMBER OF CYCLIST INJURED      412574 non-null  float64\n",
      " 15  NUMBER OF CYCLIST KILLED       412574 non-null  float64\n",
      " 16  NUMBER OF MOTORIST INJURED     412574 non-null  float64\n",
      " 17  NUMBER OF MOTORIST KILLED      412574 non-null  float64\n",
      " 18  CONTRIBUTING FACTOR VEHICLE 1  411036 non-null  object \n",
      " 19  CONTRIBUTING FACTOR VEHICLE 2  340124 non-null  object \n",
      " 20  CONTRIBUTING FACTOR VEHICLE 3  30840 non-null   object \n",
      " 21  CONTRIBUTING FACTOR VEHICLE 4  7224 non-null    object \n",
      " 22  CONTRIBUTING FACTOR VEHICLE 5  1993 non-null    object \n",
      " 23  COLLISION_ID                   412574 non-null  float64\n",
      " 24  VEHICLE TYPE CODE 1            409488 non-null  object \n",
      " 25  VEHICLE TYPE CODE 2            314499 non-null  object \n",
      " 26  VEHICLE TYPE CODE 3            29296 non-null   object \n",
      " 27  VEHICLE TYPE CODE 4            6930 non-null    object \n",
      " 28  VEHICLE TYPE CODE 5            1928 non-null    object \n",
      "dtypes: float64(12), object(17)\n",
      "memory usage: 91.3+ MB\n"
     ]
    }
   ],
   "source": [
    "Motor_vehicle_ds.info()"
   ]
  },
  {
   "cell_type": "code",
   "execution_count": 5,
   "metadata": {
    "scrolled": true
   },
   "outputs": [
    {
     "data": {
      "text/html": [
       "<div>\n",
       "<style scoped>\n",
       "    .dataframe tbody tr th:only-of-type {\n",
       "        vertical-align: middle;\n",
       "    }\n",
       "\n",
       "    .dataframe tbody tr th {\n",
       "        vertical-align: top;\n",
       "    }\n",
       "\n",
       "    .dataframe thead th {\n",
       "        text-align: right;\n",
       "    }\n",
       "</style>\n",
       "<table border=\"1\" class=\"dataframe\">\n",
       "  <thead>\n",
       "    <tr style=\"text-align: right;\">\n",
       "      <th></th>\n",
       "      <th>CRASH DATE</th>\n",
       "      <th>CRASH TIME</th>\n",
       "      <th>BOROUGH</th>\n",
       "      <th>ZIP CODE</th>\n",
       "      <th>LATITUDE</th>\n",
       "      <th>LONGITUDE</th>\n",
       "      <th>LOCATION</th>\n",
       "      <th>ON STREET NAME</th>\n",
       "      <th>CROSS STREET NAME</th>\n",
       "      <th>OFF STREET NAME</th>\n",
       "      <th>...</th>\n",
       "      <th>CONTRIBUTING FACTOR VEHICLE 2</th>\n",
       "      <th>CONTRIBUTING FACTOR VEHICLE 3</th>\n",
       "      <th>CONTRIBUTING FACTOR VEHICLE 4</th>\n",
       "      <th>CONTRIBUTING FACTOR VEHICLE 5</th>\n",
       "      <th>COLLISION_ID</th>\n",
       "      <th>VEHICLE TYPE CODE 1</th>\n",
       "      <th>VEHICLE TYPE CODE 2</th>\n",
       "      <th>VEHICLE TYPE CODE 3</th>\n",
       "      <th>VEHICLE TYPE CODE 4</th>\n",
       "      <th>VEHICLE TYPE CODE 5</th>\n",
       "    </tr>\n",
       "  </thead>\n",
       "  <tbody>\n",
       "    <tr>\n",
       "      <th>0</th>\n",
       "      <td>02/02/2021</td>\n",
       "      <td>0:00</td>\n",
       "      <td>NaN</td>\n",
       "      <td>NaN</td>\n",
       "      <td>NaN</td>\n",
       "      <td>NaN</td>\n",
       "      <td>NaN</td>\n",
       "      <td>NEW ENGLAND THRUWAY</td>\n",
       "      <td>NaN</td>\n",
       "      <td>NaN</td>\n",
       "      <td>...</td>\n",
       "      <td>NaN</td>\n",
       "      <td>NaN</td>\n",
       "      <td>NaN</td>\n",
       "      <td>NaN</td>\n",
       "      <td>4388602.0</td>\n",
       "      <td>Sedan</td>\n",
       "      <td>NaN</td>\n",
       "      <td>NaN</td>\n",
       "      <td>NaN</td>\n",
       "      <td>NaN</td>\n",
       "    </tr>\n",
       "    <tr>\n",
       "      <th>1</th>\n",
       "      <td>02/01/2021</td>\n",
       "      <td>0:15</td>\n",
       "      <td>NaN</td>\n",
       "      <td>NaN</td>\n",
       "      <td>NaN</td>\n",
       "      <td>NaN</td>\n",
       "      <td>NaN</td>\n",
       "      <td>QUEENSBORO BRIDGE UPPER</td>\n",
       "      <td>NaN</td>\n",
       "      <td>NaN</td>\n",
       "      <td>...</td>\n",
       "      <td>Unspecified</td>\n",
       "      <td>NaN</td>\n",
       "      <td>NaN</td>\n",
       "      <td>NaN</td>\n",
       "      <td>4388510.0</td>\n",
       "      <td>Sedan</td>\n",
       "      <td>Sedan</td>\n",
       "      <td>NaN</td>\n",
       "      <td>NaN</td>\n",
       "      <td>NaN</td>\n",
       "    </tr>\n",
       "    <tr>\n",
       "      <th>2</th>\n",
       "      <td>02/01/2021</td>\n",
       "      <td>15:30</td>\n",
       "      <td>NaN</td>\n",
       "      <td>NaN</td>\n",
       "      <td>40.697815</td>\n",
       "      <td>-73.7602</td>\n",
       "      <td>(40.697815, -73.7602)</td>\n",
       "      <td>114 ROAD</td>\n",
       "      <td>NaN</td>\n",
       "      <td>NaN</td>\n",
       "      <td>...</td>\n",
       "      <td>NaN</td>\n",
       "      <td>NaN</td>\n",
       "      <td>NaN</td>\n",
       "      <td>NaN</td>\n",
       "      <td>4388639.0</td>\n",
       "      <td>Sedan</td>\n",
       "      <td>NaN</td>\n",
       "      <td>NaN</td>\n",
       "      <td>NaN</td>\n",
       "      <td>NaN</td>\n",
       "    </tr>\n",
       "    <tr>\n",
       "      <th>3</th>\n",
       "      <td>02/01/2021</td>\n",
       "      <td>2:35</td>\n",
       "      <td>NaN</td>\n",
       "      <td>NaN</td>\n",
       "      <td>NaN</td>\n",
       "      <td>NaN</td>\n",
       "      <td>NaN</td>\n",
       "      <td>PROSPECT EXPRESSWAY RAMP</td>\n",
       "      <td>NaN</td>\n",
       "      <td>NaN</td>\n",
       "      <td>...</td>\n",
       "      <td>NaN</td>\n",
       "      <td>NaN</td>\n",
       "      <td>NaN</td>\n",
       "      <td>NaN</td>\n",
       "      <td>4388200.0</td>\n",
       "      <td>Station Wagon/Sport Utility Vehicle</td>\n",
       "      <td>NaN</td>\n",
       "      <td>NaN</td>\n",
       "      <td>NaN</td>\n",
       "      <td>NaN</td>\n",
       "    </tr>\n",
       "    <tr>\n",
       "      <th>4</th>\n",
       "      <td>10/27/2020</td>\n",
       "      <td>9:00</td>\n",
       "      <td>NaN</td>\n",
       "      <td>NaN</td>\n",
       "      <td>NaN</td>\n",
       "      <td>NaN</td>\n",
       "      <td>NaN</td>\n",
       "      <td>BRUCKNER EXPRESSWAY</td>\n",
       "      <td>NaN</td>\n",
       "      <td>NaN</td>\n",
       "      <td>...</td>\n",
       "      <td>Unspecified</td>\n",
       "      <td>NaN</td>\n",
       "      <td>NaN</td>\n",
       "      <td>NaN</td>\n",
       "      <td>4361834.0</td>\n",
       "      <td>commercial</td>\n",
       "      <td>Sedan</td>\n",
       "      <td>NaN</td>\n",
       "      <td>NaN</td>\n",
       "      <td>NaN</td>\n",
       "    </tr>\n",
       "  </tbody>\n",
       "</table>\n",
       "<p>5 rows × 29 columns</p>\n",
       "</div>"
      ],
      "text/plain": [
       "   CRASH DATE CRASH TIME BOROUGH  ZIP CODE   LATITUDE  LONGITUDE  \\\n",
       "0  02/02/2021       0:00     NaN       NaN        NaN        NaN   \n",
       "1  02/01/2021       0:15     NaN       NaN        NaN        NaN   \n",
       "2  02/01/2021      15:30     NaN       NaN  40.697815   -73.7602   \n",
       "3  02/01/2021       2:35     NaN       NaN        NaN        NaN   \n",
       "4  10/27/2020       9:00     NaN       NaN        NaN        NaN   \n",
       "\n",
       "                LOCATION                    ON STREET NAME CROSS STREET NAME  \\\n",
       "0                    NaN  NEW ENGLAND THRUWAY                            NaN   \n",
       "1                    NaN  QUEENSBORO BRIDGE UPPER                        NaN   \n",
       "2  (40.697815, -73.7602)  114 ROAD                                       NaN   \n",
       "3                    NaN  PROSPECT EXPRESSWAY RAMP                       NaN   \n",
       "4                    NaN  BRUCKNER EXPRESSWAY                            NaN   \n",
       "\n",
       "  OFF STREET NAME  ...  CONTRIBUTING FACTOR VEHICLE 2  \\\n",
       "0             NaN  ...                            NaN   \n",
       "1             NaN  ...                    Unspecified   \n",
       "2             NaN  ...                            NaN   \n",
       "3             NaN  ...                            NaN   \n",
       "4             NaN  ...                    Unspecified   \n",
       "\n",
       "   CONTRIBUTING FACTOR VEHICLE 3  CONTRIBUTING FACTOR VEHICLE 4  \\\n",
       "0                            NaN                            NaN   \n",
       "1                            NaN                            NaN   \n",
       "2                            NaN                            NaN   \n",
       "3                            NaN                            NaN   \n",
       "4                            NaN                            NaN   \n",
       "\n",
       "   CONTRIBUTING FACTOR VEHICLE 5  COLLISION_ID  \\\n",
       "0                            NaN     4388602.0   \n",
       "1                            NaN     4388510.0   \n",
       "2                            NaN     4388639.0   \n",
       "3                            NaN     4388200.0   \n",
       "4                            NaN     4361834.0   \n",
       "\n",
       "                   VEHICLE TYPE CODE 1  VEHICLE TYPE CODE 2  \\\n",
       "0                                Sedan                  NaN   \n",
       "1                                Sedan                Sedan   \n",
       "2                                Sedan                  NaN   \n",
       "3  Station Wagon/Sport Utility Vehicle                  NaN   \n",
       "4                           commercial                Sedan   \n",
       "\n",
       "   VEHICLE TYPE CODE 3 VEHICLE TYPE CODE 4 VEHICLE TYPE CODE 5  \n",
       "0                  NaN                 NaN                 NaN  \n",
       "1                  NaN                 NaN                 NaN  \n",
       "2                  NaN                 NaN                 NaN  \n",
       "3                  NaN                 NaN                 NaN  \n",
       "4                  NaN                 NaN                 NaN  \n",
       "\n",
       "[5 rows x 29 columns]"
      ]
     },
     "execution_count": 5,
     "metadata": {},
     "output_type": "execute_result"
    }
   ],
   "source": [
    "Motor_vehicle_ds.head()"
   ]
  },
  {
   "cell_type": "code",
   "execution_count": 6,
   "metadata": {
    "scrolled": true
   },
   "outputs": [
    {
     "data": {
      "text/html": [
       "<div>\n",
       "<style scoped>\n",
       "    .dataframe tbody tr th:only-of-type {\n",
       "        vertical-align: middle;\n",
       "    }\n",
       "\n",
       "    .dataframe tbody tr th {\n",
       "        vertical-align: top;\n",
       "    }\n",
       "\n",
       "    .dataframe thead th {\n",
       "        text-align: right;\n",
       "    }\n",
       "</style>\n",
       "<table border=\"1\" class=\"dataframe\">\n",
       "  <thead>\n",
       "    <tr style=\"text-align: right;\">\n",
       "      <th></th>\n",
       "      <th>column</th>\n",
       "      <th>Number of ,missing value</th>\n",
       "      <th>NA_percent_missing</th>\n",
       "    </tr>\n",
       "  </thead>\n",
       "  <tbody>\n",
       "    <tr>\n",
       "      <th>CRASH DATE</th>\n",
       "      <td>CRASH DATE</td>\n",
       "      <td>0</td>\n",
       "      <td>0.0</td>\n",
       "    </tr>\n",
       "    <tr>\n",
       "      <th>CRASH TIME</th>\n",
       "      <td>CRASH TIME</td>\n",
       "      <td>0</td>\n",
       "      <td>0.0</td>\n",
       "    </tr>\n",
       "    <tr>\n",
       "      <th>BOROUGH</th>\n",
       "      <td>BOROUGH</td>\n",
       "      <td>145239</td>\n",
       "      <td>35.0</td>\n",
       "    </tr>\n",
       "    <tr>\n",
       "      <th>ZIP CODE</th>\n",
       "      <td>ZIP CODE</td>\n",
       "      <td>145309</td>\n",
       "      <td>35.0</td>\n",
       "    </tr>\n",
       "    <tr>\n",
       "      <th>LATITUDE</th>\n",
       "      <td>LATITUDE</td>\n",
       "      <td>33351</td>\n",
       "      <td>8.0</td>\n",
       "    </tr>\n",
       "    <tr>\n",
       "      <th>LONGITUDE</th>\n",
       "      <td>LONGITUDE</td>\n",
       "      <td>33351</td>\n",
       "      <td>8.0</td>\n",
       "    </tr>\n",
       "    <tr>\n",
       "      <th>LOCATION</th>\n",
       "      <td>LOCATION</td>\n",
       "      <td>33351</td>\n",
       "      <td>8.0</td>\n",
       "    </tr>\n",
       "    <tr>\n",
       "      <th>ON STREET NAME</th>\n",
       "      <td>ON STREET NAME</td>\n",
       "      <td>101484</td>\n",
       "      <td>25.0</td>\n",
       "    </tr>\n",
       "    <tr>\n",
       "      <th>CROSS STREET NAME</th>\n",
       "      <td>CROSS STREET NAME</td>\n",
       "      <td>211437</td>\n",
       "      <td>51.0</td>\n",
       "    </tr>\n",
       "    <tr>\n",
       "      <th>OFF STREET NAME</th>\n",
       "      <td>OFF STREET NAME</td>\n",
       "      <td>311197</td>\n",
       "      <td>75.0</td>\n",
       "    </tr>\n",
       "    <tr>\n",
       "      <th>NUMBER OF PERSONS INJURED</th>\n",
       "      <td>NUMBER OF PERSONS INJURED</td>\n",
       "      <td>3</td>\n",
       "      <td>0.0</td>\n",
       "    </tr>\n",
       "    <tr>\n",
       "      <th>NUMBER OF PERSONS KILLED</th>\n",
       "      <td>NUMBER OF PERSONS KILLED</td>\n",
       "      <td>8</td>\n",
       "      <td>0.0</td>\n",
       "    </tr>\n",
       "    <tr>\n",
       "      <th>NUMBER OF PEDESTRIANS INJURED</th>\n",
       "      <td>NUMBER OF PEDESTRIANS INJURED</td>\n",
       "      <td>1</td>\n",
       "      <td>0.0</td>\n",
       "    </tr>\n",
       "    <tr>\n",
       "      <th>NUMBER OF PEDESTRIANS KILLED</th>\n",
       "      <td>NUMBER OF PEDESTRIANS KILLED</td>\n",
       "      <td>1</td>\n",
       "      <td>0.0</td>\n",
       "    </tr>\n",
       "    <tr>\n",
       "      <th>NUMBER OF CYCLIST INJURED</th>\n",
       "      <td>NUMBER OF CYCLIST INJURED</td>\n",
       "      <td>1</td>\n",
       "      <td>0.0</td>\n",
       "    </tr>\n",
       "    <tr>\n",
       "      <th>NUMBER OF CYCLIST KILLED</th>\n",
       "      <td>NUMBER OF CYCLIST KILLED</td>\n",
       "      <td>1</td>\n",
       "      <td>0.0</td>\n",
       "    </tr>\n",
       "    <tr>\n",
       "      <th>NUMBER OF MOTORIST INJURED</th>\n",
       "      <td>NUMBER OF MOTORIST INJURED</td>\n",
       "      <td>1</td>\n",
       "      <td>0.0</td>\n",
       "    </tr>\n",
       "    <tr>\n",
       "      <th>NUMBER OF MOTORIST KILLED</th>\n",
       "      <td>NUMBER OF MOTORIST KILLED</td>\n",
       "      <td>1</td>\n",
       "      <td>0.0</td>\n",
       "    </tr>\n",
       "    <tr>\n",
       "      <th>CONTRIBUTING FACTOR VEHICLE 1</th>\n",
       "      <td>CONTRIBUTING FACTOR VEHICLE 1</td>\n",
       "      <td>1539</td>\n",
       "      <td>0.0</td>\n",
       "    </tr>\n",
       "    <tr>\n",
       "      <th>CONTRIBUTING FACTOR VEHICLE 2</th>\n",
       "      <td>CONTRIBUTING FACTOR VEHICLE 2</td>\n",
       "      <td>72451</td>\n",
       "      <td>18.0</td>\n",
       "    </tr>\n",
       "    <tr>\n",
       "      <th>CONTRIBUTING FACTOR VEHICLE 3</th>\n",
       "      <td>CONTRIBUTING FACTOR VEHICLE 3</td>\n",
       "      <td>381735</td>\n",
       "      <td>93.0</td>\n",
       "    </tr>\n",
       "    <tr>\n",
       "      <th>CONTRIBUTING FACTOR VEHICLE 4</th>\n",
       "      <td>CONTRIBUTING FACTOR VEHICLE 4</td>\n",
       "      <td>405351</td>\n",
       "      <td>98.0</td>\n",
       "    </tr>\n",
       "    <tr>\n",
       "      <th>CONTRIBUTING FACTOR VEHICLE 5</th>\n",
       "      <td>CONTRIBUTING FACTOR VEHICLE 5</td>\n",
       "      <td>410582</td>\n",
       "      <td>100.0</td>\n",
       "    </tr>\n",
       "    <tr>\n",
       "      <th>COLLISION_ID</th>\n",
       "      <td>COLLISION_ID</td>\n",
       "      <td>1</td>\n",
       "      <td>0.0</td>\n",
       "    </tr>\n",
       "    <tr>\n",
       "      <th>VEHICLE TYPE CODE 1</th>\n",
       "      <td>VEHICLE TYPE CODE 1</td>\n",
       "      <td>3087</td>\n",
       "      <td>1.0</td>\n",
       "    </tr>\n",
       "    <tr>\n",
       "      <th>VEHICLE TYPE CODE 2</th>\n",
       "      <td>VEHICLE TYPE CODE 2</td>\n",
       "      <td>98076</td>\n",
       "      <td>24.0</td>\n",
       "    </tr>\n",
       "    <tr>\n",
       "      <th>VEHICLE TYPE CODE 3</th>\n",
       "      <td>VEHICLE TYPE CODE 3</td>\n",
       "      <td>383279</td>\n",
       "      <td>93.0</td>\n",
       "    </tr>\n",
       "    <tr>\n",
       "      <th>VEHICLE TYPE CODE 4</th>\n",
       "      <td>VEHICLE TYPE CODE 4</td>\n",
       "      <td>405645</td>\n",
       "      <td>98.0</td>\n",
       "    </tr>\n",
       "    <tr>\n",
       "      <th>VEHICLE TYPE CODE 5</th>\n",
       "      <td>VEHICLE TYPE CODE 5</td>\n",
       "      <td>410647</td>\n",
       "      <td>100.0</td>\n",
       "    </tr>\n",
       "  </tbody>\n",
       "</table>\n",
       "</div>"
      ],
      "text/plain": [
       "                                                      column  \\\n",
       "CRASH DATE                                        CRASH DATE   \n",
       "CRASH TIME                                        CRASH TIME   \n",
       "BOROUGH                                              BOROUGH   \n",
       "ZIP CODE                                            ZIP CODE   \n",
       "LATITUDE                                            LATITUDE   \n",
       "LONGITUDE                                          LONGITUDE   \n",
       "LOCATION                                            LOCATION   \n",
       "ON STREET NAME                                ON STREET NAME   \n",
       "CROSS STREET NAME                          CROSS STREET NAME   \n",
       "OFF STREET NAME                              OFF STREET NAME   \n",
       "NUMBER OF PERSONS INJURED          NUMBER OF PERSONS INJURED   \n",
       "NUMBER OF PERSONS KILLED            NUMBER OF PERSONS KILLED   \n",
       "NUMBER OF PEDESTRIANS INJURED  NUMBER OF PEDESTRIANS INJURED   \n",
       "NUMBER OF PEDESTRIANS KILLED    NUMBER OF PEDESTRIANS KILLED   \n",
       "NUMBER OF CYCLIST INJURED          NUMBER OF CYCLIST INJURED   \n",
       "NUMBER OF CYCLIST KILLED            NUMBER OF CYCLIST KILLED   \n",
       "NUMBER OF MOTORIST INJURED        NUMBER OF MOTORIST INJURED   \n",
       "NUMBER OF MOTORIST KILLED          NUMBER OF MOTORIST KILLED   \n",
       "CONTRIBUTING FACTOR VEHICLE 1  CONTRIBUTING FACTOR VEHICLE 1   \n",
       "CONTRIBUTING FACTOR VEHICLE 2  CONTRIBUTING FACTOR VEHICLE 2   \n",
       "CONTRIBUTING FACTOR VEHICLE 3  CONTRIBUTING FACTOR VEHICLE 3   \n",
       "CONTRIBUTING FACTOR VEHICLE 4  CONTRIBUTING FACTOR VEHICLE 4   \n",
       "CONTRIBUTING FACTOR VEHICLE 5  CONTRIBUTING FACTOR VEHICLE 5   \n",
       "COLLISION_ID                                    COLLISION_ID   \n",
       "VEHICLE TYPE CODE 1                      VEHICLE TYPE CODE 1   \n",
       "VEHICLE TYPE CODE 2                      VEHICLE TYPE CODE 2   \n",
       "VEHICLE TYPE CODE 3                      VEHICLE TYPE CODE 3   \n",
       "VEHICLE TYPE CODE 4                      VEHICLE TYPE CODE 4   \n",
       "VEHICLE TYPE CODE 5                      VEHICLE TYPE CODE 5   \n",
       "\n",
       "                               Number of ,missing value  NA_percent_missing  \n",
       "CRASH DATE                                            0                 0.0  \n",
       "CRASH TIME                                            0                 0.0  \n",
       "BOROUGH                                          145239                35.0  \n",
       "ZIP CODE                                         145309                35.0  \n",
       "LATITUDE                                          33351                 8.0  \n",
       "LONGITUDE                                         33351                 8.0  \n",
       "LOCATION                                          33351                 8.0  \n",
       "ON STREET NAME                                   101484                25.0  \n",
       "CROSS STREET NAME                                211437                51.0  \n",
       "OFF STREET NAME                                  311197                75.0  \n",
       "NUMBER OF PERSONS INJURED                             3                 0.0  \n",
       "NUMBER OF PERSONS KILLED                              8                 0.0  \n",
       "NUMBER OF PEDESTRIANS INJURED                         1                 0.0  \n",
       "NUMBER OF PEDESTRIANS KILLED                          1                 0.0  \n",
       "NUMBER OF CYCLIST INJURED                             1                 0.0  \n",
       "NUMBER OF CYCLIST KILLED                              1                 0.0  \n",
       "NUMBER OF MOTORIST INJURED                            1                 0.0  \n",
       "NUMBER OF MOTORIST KILLED                             1                 0.0  \n",
       "CONTRIBUTING FACTOR VEHICLE 1                      1539                 0.0  \n",
       "CONTRIBUTING FACTOR VEHICLE 2                     72451                18.0  \n",
       "CONTRIBUTING FACTOR VEHICLE 3                    381735                93.0  \n",
       "CONTRIBUTING FACTOR VEHICLE 4                    405351                98.0  \n",
       "CONTRIBUTING FACTOR VEHICLE 5                    410582               100.0  \n",
       "COLLISION_ID                                          1                 0.0  \n",
       "VEHICLE TYPE CODE 1                                3087                 1.0  \n",
       "VEHICLE TYPE CODE 2                               98076                24.0  \n",
       "VEHICLE TYPE CODE 3                              383279                93.0  \n",
       "VEHICLE TYPE CODE 4                              405645                98.0  \n",
       "VEHICLE TYPE CODE 5                              410647               100.0  "
      ]
     },
     "execution_count": 6,
     "metadata": {},
     "output_type": "execute_result"
    }
   ],
   "source": [
    "### check the percentage of missing value on the dataset \n",
    "NA_Percentage = round(Motor_vehicle_ds.isnull().sum() * 100 / len(Motor_vehicle_ds))\n",
    "pd.DataFrame({'column': Motor_vehicle_ds.columns,\n",
    "              'Number of ,missing value':Motor_vehicle_ds.isnull().sum(),\n",
    "                                 'NA_percent_missing': NA_Percentage})\n",
    "\n"
   ]
  },
  {
   "cell_type": "markdown",
   "metadata": {},
   "source": [
    "### Data insights\n",
    "- first column name need to be modified for easy calling\n",
    "\n",
    "- CRASH DATE ,CRASH TIME has no missing values.\n",
    "\n",
    "- BOROUGH has 35% missing value which has to be filled as this is important information and we would use it when we create the map and I used  New York as a brough and general  New York zip code as I have found it here in https://ny.postcodebase.com/zipcode5/10018 zipcode=10018.\n",
    "\n",
    "- for missing LATITUDE and LONGITUDE I have used also the general NY latitude and longitude https://www.latlong.net/place/new-york-city-ny-usa-1848.html latitude = 40.730610  and longitude = -73.935242, location= 40.730610,-73.935242\n",
    "\n",
    "- As streets name, CONTRIBUTING factors and Vehicle not affecting our analysis I would fill it with 'Unspecified'  \n",
    "\n",
    "- percentage of killing and ingered missing value is not significant so I will filled that with 0\n",
    " "
   ]
  },
  {
   "cell_type": "markdown",
   "metadata": {},
   "source": [
    "### Dataset cleansing "
   ]
  },
  {
   "cell_type": "code",
   "execution_count": 7,
   "metadata": {},
   "outputs": [
    {
     "data": {
      "text/html": [
       "\n",
       "        <script>\n",
       "            function code_toggle_7543626907965089586() {\n",
       "                $('div.cell.code_cell.rendered.selected').find('div.input').toggle();\n",
       "            }\n",
       "\n",
       "            \n",
       "        </script>\n",
       "\n",
       "        <a href=\"javascript:code_toggle_7543626907965089586()\">Renaming column</a>\n",
       "    "
      ],
      "text/plain": [
       "<IPython.core.display.HTML object>"
      ]
     },
     "execution_count": 7,
     "metadata": {},
     "output_type": "execute_result"
    }
   ],
   "source": [
    "#renaming columns so It become more easy to use\n",
    "def RenamingCol(data):\n",
    "    data.rename(columns = {'CRASH DATE':'Date',\n",
    "                         'CRASH TIME':'Time',\n",
    "                         'ZIP CODE': 'ZIP',\n",
    "                         'ON STREET NAME'    : 'On_Street',\n",
    "                         'CROSS STREET NAME' : 'Cross_Street',\n",
    "                         'OFF STREET NAME'   : 'Off_Street',\n",
    "                         'NUMBER OF PERSONS INJURED'     : 'No_Injured',\n",
    "                         'NUMBER OF PERSONS KILLED'      : 'No_Killed',\n",
    "                         'NUMBER OF PEDESTRIANS INJURED' : 'P_Injured',\n",
    "                         'NUMBER OF PEDESTRIANS KILLED'  : 'P_Killed',\n",
    "                         'NUMBER OF CYCLIST INJURED'     : 'C_Injured',\n",
    "                         'NUMBER OF CYCLIST KILLED'      : 'C_Killed',\n",
    "                         'NUMBER OF MOTORIST INJURED'    : 'M_Injured',\n",
    "                         'NUMBER OF MOTORIST KILLED'     : 'M_Killed',\n",
    "                         'CONTRIBUTING FACTOR VEHICLE 1' : 'V_FACTOR_1',\n",
    "                         'CONTRIBUTING FACTOR VEHICLE 2' : 'V_FACTOR_2',\n",
    "                         'CONTRIBUTING FACTOR VEHICLE 3' : 'V_FACTOR_3',\n",
    "                         'CONTRIBUTING FACTOR VEHICLE 4' : 'V_FACTOR_4',\n",
    "                         'CONTRIBUTING FACTOR VEHICLE 5' : 'V_FACTOR_5',\n",
    "                         'VEHICLE TYPE CODE 1' : 'V_TYPE_1',\n",
    "                         'VEHICLE TYPE CODE 2' : 'V_TYPE_2',\n",
    "                         'VEHICLE TYPE CODE 3' : 'V_TYPE_3',\n",
    "                         'VEHICLE TYPE CODE 4' : 'V_TYPE_4',\n",
    "                         'VEHICLE TYPE CODE 5' : 'V_TYPE_5'},\n",
    "           inplace = True) \n",
    "    \n",
    "hide_toggle('Renaming column')"
   ]
  },
  {
   "cell_type": "code",
   "execution_count": 8,
   "metadata": {
    "scrolled": true
   },
   "outputs": [
    {
     "data": {
      "text/html": [
       "\n",
       "        <script>\n",
       "            function code_toggle_3180352448004076330() {\n",
       "                $('div.cell.code_cell.rendered.selected').find('div.input').toggle();\n",
       "            }\n",
       "\n",
       "            \n",
       "        </script>\n",
       "\n",
       "        <a href=\"javascript:code_toggle_3180352448004076330()\">Renameing colmn implementation</a>\n",
       "    "
      ],
      "text/plain": [
       "<IPython.core.display.HTML object>"
      ]
     },
     "execution_count": 8,
     "metadata": {},
     "output_type": "execute_result"
    }
   ],
   "source": [
    "#column renaming \n",
    "RenamingCol(Motor_vehicle_ds)\n",
    "\n",
    "hide_toggle('Renameing colmn implementation')"
   ]
  },
  {
   "cell_type": "code",
   "execution_count": 9,
   "metadata": {
    "scrolled": true
   },
   "outputs": [
    {
     "data": {
      "text/html": [
       "\n",
       "        <script>\n",
       "            function code_toggle_2549047357979305199() {\n",
       "                $('div.cell.code_cell.rendered.selected').find('div.input').toggle();\n",
       "            }\n",
       "\n",
       "            \n",
       "        </script>\n",
       "\n",
       "        <a href=\"javascript:code_toggle_2549047357979305199()\">Handelling missing value function </a>\n",
       "    "
      ],
      "text/plain": [
       "<IPython.core.display.HTML object>"
      ]
     },
     "execution_count": 9,
     "metadata": {},
     "output_type": "execute_result"
    }
   ],
   "source": [
    "#replace missing value with unknown string\n",
    "def Handel_missingValue(data):\n",
    "    \n",
    "# Number of persons injured is the total of injured (pedestrians + cyclists + motorists)\n",
    "# If the number is 0, it means 0 injures and 0 deaths in an incident, but it's still a record\n",
    "    data.loc[data['BOROUGH'].isnull(), 'BOROUGH'] = 'New York'\n",
    "    data.loc[data['ZIP'].isnull(), 'ZIP'] = '10018'\n",
    "    data.loc[data['COLLISION_ID'].isnull(), 'COLLISION_ID'] = 'Unspecified'\n",
    "    data.loc[data['LATITUDE'].isnull() , 'LATITUDE'] = '40.730610'\n",
    "    data.loc[data['LONGITUDE'].isnull(), 'LONGITUDE'] = '-73.935242'\n",
    "    data.loc[data['LOCATION'].isnull() , 'LOCATION'] = '(40.730610,-73.935242)'\n",
    "    data.loc[data['On_Street'].isnull(), 'On_Street'] = 'Unspecified'\n",
    "    data.loc[data['Cross_Street'].isnull(), 'Cross_Street'] = 'Unspecified'\n",
    "    data.loc[data['Off_Street'].isnull(), 'Off_Street'] = 'Unspecified' \n",
    "    data.loc[data['V_FACTOR_1'].isnull(), 'V_FACTOR_1'] = 'Unspecified'\n",
    "    data.loc[data['V_FACTOR_2'].isnull(), 'V_FACTOR_2'] = 'Unspecified' \n",
    "    data.loc[data['V_FACTOR_3'].isnull(), 'V_FACTOR_3'] = 'Unspecified' \n",
    "    data.loc[data['V_FACTOR_4'].isnull(), 'V_FACTOR_4'] = 'Unspecified' \n",
    "    data.loc[data['V_FACTOR_5'].isnull(), 'V_FACTOR_5'] = 'Unspecified' \n",
    "    data.loc[data['V_TYPE_1'].isnull(), 'V_TYPE_1'] = 'Unspecified' \n",
    "    data.loc[data['V_TYPE_2'].isnull(), 'V_TYPE_2'] = 'Unspecified' \n",
    "    data.loc[data['V_TYPE_3'].isnull(), 'V_TYPE_3'] = 'Unspecified' \n",
    "    data.loc[data['V_TYPE_4'].isnull(), 'V_TYPE_4'] = 'Unspecified' \n",
    "    data.loc[data['V_TYPE_5'].isnull(), 'V_TYPE_5'] = 'Unspecified'\n",
    "    \n",
    "    data.loc[data['No_Injured'].isnull(), 'No_Injured'] = 0 \n",
    "    data.loc[data['No_Killed'].isnull(), 'No_Killed'] = 0\n",
    "    data.loc[data['P_Injured'].isnull(), 'P_Injured'] = 0\n",
    "    data.loc[data['P_Killed'].isnull(), 'P_Killed'] = 0\n",
    "    data.loc[data['C_Injured'].isnull(), 'C_Injured'] =0\n",
    "    data.loc[data['C_Killed'].isnull(), 'C_Killed'] = 0\n",
    "    data.loc[data['M_Injured'].isnull(), 'M_Injured'] = 0\n",
    "    data.loc[data['M_Killed'].isnull(), 'M_Killed'] = 0 \n",
    "    \n",
    "hide_toggle('Handelling missing value function ')"
   ]
  },
  {
   "cell_type": "code",
   "execution_count": 10,
   "metadata": {
    "scrolled": true
   },
   "outputs": [],
   "source": [
    "Handel_missingValue(Motor_vehicle_ds)"
   ]
  },
  {
   "cell_type": "markdown",
   "metadata": {},
   "source": [
    "## perform some data mining on the dataset"
   ]
  },
  {
   "cell_type": "code",
   "execution_count": 11,
   "metadata": {
    "scrolled": true
   },
   "outputs": [
    {
     "data": {
      "text/plain": [
       "Index(['Date', 'Time', 'BOROUGH', 'ZIP', 'LATITUDE', 'LONGITUDE', 'LOCATION',\n",
       "       'On_Street', 'Cross_Street', 'Off_Street', 'No_Injured', 'No_Killed',\n",
       "       'P_Injured', 'P_Killed', 'C_Injured', 'C_Killed', 'M_Injured',\n",
       "       'M_Killed', 'V_FACTOR_1', 'V_FACTOR_2', 'V_FACTOR_3', 'V_FACTOR_4',\n",
       "       'V_FACTOR_5', 'COLLISION_ID', 'V_TYPE_1', 'V_TYPE_2', 'V_TYPE_3',\n",
       "       'V_TYPE_4', 'V_TYPE_5'],\n",
       "      dtype='object')"
      ]
     },
     "execution_count": 11,
     "metadata": {},
     "output_type": "execute_result"
    }
   ],
   "source": [
    "Motor_vehicle_ds.columns"
   ]
  },
  {
   "cell_type": "code",
   "execution_count": 12,
   "metadata": {},
   "outputs": [
    {
     "data": {
      "text/plain": [
       "Date            412575\n",
       "Time            412575\n",
       "BOROUGH         412575\n",
       "ZIP             412575\n",
       "LATITUDE        412575\n",
       "LONGITUDE       412575\n",
       "LOCATION        412575\n",
       "On_Street       412575\n",
       "Cross_Street    412575\n",
       "Off_Street      412575\n",
       "No_Injured      412575\n",
       "No_Killed       412575\n",
       "P_Injured       412575\n",
       "P_Killed        412575\n",
       "C_Injured       412575\n",
       "C_Killed        412575\n",
       "M_Injured       412575\n",
       "M_Killed        412575\n",
       "V_FACTOR_1      412575\n",
       "V_FACTOR_2      412575\n",
       "V_FACTOR_3      412575\n",
       "V_FACTOR_4      412575\n",
       "V_FACTOR_5      412575\n",
       "COLLISION_ID    412575\n",
       "V_TYPE_1        412575\n",
       "V_TYPE_2        412575\n",
       "V_TYPE_3        412575\n",
       "V_TYPE_4        412575\n",
       "V_TYPE_5        412575\n",
       "dtype: int64"
      ]
     },
     "execution_count": 12,
     "metadata": {},
     "output_type": "execute_result"
    }
   ],
   "source": [
    "#checking the count of wors for each colmn \n",
    "Motor_vehicle_ds.count()"
   ]
  },
  {
   "cell_type": "code",
   "execution_count": 13,
   "metadata": {
    "scrolled": true
   },
   "outputs": [
    {
     "data": {
      "text/plain": [
       "412575"
      ]
     },
     "execution_count": 13,
     "metadata": {},
     "output_type": "execute_result"
    }
   ],
   "source": [
    "#checking count of Collision ID to see if we can use it as a unique key \n",
    "Motor_vehicle_ds.COLLISION_ID.nunique()"
   ]
  },
  {
   "cell_type": "markdown",
   "metadata": {},
   "source": [
    "### NB: \n",
    "when I tried to create proper data model for the dataset using normalization like to create \n",
    "creashes, vehichle,persons , streets , Brough, factors, Injured, killed tables I have found that all relation will\n",
    "be one to one except BOROUGH table which has BOROUGH name and zip_code and the crashes which will have all other columns\n",
    "so I decide to continue using data frame  imported directly from the csv \"may be I have missed something here\""
   ]
  },
  {
   "cell_type": "code",
   "execution_count": 14,
   "metadata": {},
   "outputs": [
    {
     "data": {
      "image/png": "[encoded data removed]",
      "text/plain": [
       "<Figure size 1080x1080 with 2 Axes>"
      ]
     },
     "metadata": {
      "needs_background": "light"
     },
     "output_type": "display_data"
    }
   ],
   "source": [
    "#checking some insights for brough number of killed and injured \n",
    "fig, ax = plt.subplots(1, figsize=(15, 15))\n",
    "\n",
    "plt.subplot(2, 2 ,1)\n",
    "Motor_vehicle_ds.groupby('BOROUGH').No_Injured.sum().sort_values(ascending=False).plot.bar()\n",
    "plt.title('Number of people injured per borough', fontsize=15)\n",
    "plt.xlabel('MB:New York = missing locations', fontsize=8)\n",
    "\n",
    "plt.subplot(2, 2 ,2)\n",
    "Motor_vehicle_ds.groupby('BOROUGH').No_Killed.sum().sort_values(ascending=False).plot.bar()\n",
    "plt.title('Number of people killed per borough', fontsize=15)\n",
    "plt.xlabel('NB:New York = missing locations', fontsize=8)\n",
    "\n",
    "plt.show()"
   ]
  },
  {
   "cell_type": "markdown",
   "metadata": {},
   "source": [
    "### Plotting New York map\n",
    "- to be able to plot the location on mal we have to have shape file of the country I have download that from \n",
    "\n",
    "https://data.cityofnewyork.us/City-Government/Borough-Boundaries/tqmj-j8zm"
   ]
  },
  {
   "cell_type": "markdown",
   "metadata": {},
   "source": [
    "### Viewing the shape file with boro name"
   ]
  },
  {
   "cell_type": "code",
   "execution_count": 15,
   "metadata": {
    "scrolled": false
   },
   "outputs": [
    {
     "data": {
      "text/plain": [
       "0        Annotation(-73.9672, 40.7773, 'Manhattan')\n",
       "1            Annotation(-73.8665, 40.8526, 'Bronx')\n",
       "2         Annotation(-73.9478, 40.6448, 'Brooklyn')\n",
       "3           Annotation(-73.8186, 40.7076, 'Queens')\n",
       "4    Annotation(-74.1534, 40.5808, 'Staten Island')\n",
       "dtype: object"
      ]
     },
     "execution_count": 15,
     "metadata": {},
     "output_type": "execute_result"
    },
    {
     "data": {
      "image/png": "[encoded data removed]",
      "text/plain": [
       "<Figure size 1800x1800 with 1 Axes>"
      ]
     },
     "metadata": {
      "needs_background": "light"
     },
     "output_type": "display_data"
    }
   ],
   "source": [
    "#loading the shape file and all other file you have downloaded from the link \n",
    "nymap=gpd.read_file('USA_GEO/geo_export_9077d58c-7dd0-4f2c-8834-ed59cd6a4202.shp')\n",
    "fig,ax=plt.subplots(figsize=(25,25))\n",
    "ax.axis('off')\n",
    "nymap.plot(ax=ax,cmap='tab10', figsize=(50, 50))\n",
    "nymap.apply(lambda x: ax.annotate(s=x.boro_name, xy=x.geometry.centroid.coords[0], ha='center', fontsize=14),axis=1)"
   ]
  },
  {
   "cell_type": "code",
   "execution_count": 16,
   "metadata": {
    "scrolled": false
   },
   "outputs": [
    {
     "data": {
      "text/html": [
       "\n",
       "        <script>\n",
       "            function code_toggle_351079200440537308() {\n",
       "                $('div.cell.code_cell.rendered.selected').find('div.input').toggle();\n",
       "            }\n",
       "\n",
       "            \n",
       "        </script>\n",
       "\n",
       "        <a href=\"javascript:code_toggle_351079200440537308()\">Fill BOROUGH drop down list</a>\n",
       "    "
      ],
      "text/plain": [
       "<IPython.core.display.HTML object>"
      ]
     },
     "execution_count": 16,
     "metadata": {},
     "output_type": "execute_result"
    }
   ],
   "source": [
    "#create fill BOROUGH drop down list function to be filled with the unique BOROUGH names\n",
    "ALL = 'ALL'\n",
    "def fill_dropDown(array):\n",
    "    unique = array.unique().tolist() \n",
    "    unique.insert(0, ALL)\n",
    "    return unique\n",
    "#assign the drop down widget after filling it to variable ddl_BOROUGH\n",
    "ddl_BOROUGH = widgets.Dropdown(options =fill_dropDown(Motor_vehicle_ds.BOROUGH ))\n",
    "\n",
    "hide_toggle('Fill BOROUGH drop down list')"
   ]
  },
  {
   "cell_type": "code",
   "execution_count": 17,
   "metadata": {},
   "outputs": [],
   "source": [
    "#change boro to upper name in nymap dataframe to be identical to dropdown\n",
    "nymap.boro_name=nymap.boro_name.apply(lambda x: x.upper())\n",
    "# create zip x and y coordinates into single feature for our dataframe\n",
    "geometry =gpd.points_from_xy(Motor_vehicle_ds.LONGITUDE, Motor_vehicle_ds.LATITUDE)\n",
    "#set Coordinate Reference Systems refer to https://geopandas.org/projections.html for more information\n",
    "crs={'init': 'epsg:4326'}\n",
    "#change normal crash dataframe to geo dataframe to be understandable to the shape file\n",
    "geo_df =gpd.GeoDataFrame(Motor_vehicle_ds,crs=crs,geometry=geometry )\n",
    "geo_df['geometry']=geometry"
   ]
  },
  {
   "cell_type": "code",
   "execution_count": 18,
   "metadata": {},
   "outputs": [
    {
     "data": {
      "text/html": [
       "\n",
       "        <script>\n",
       "            function code_toggle_132653199290396314() {\n",
       "                $('div.cell.code_cell.rendered.selected').find('div.input').toggle();\n",
       "            }\n",
       "\n",
       "            \n",
       "        </script>\n",
       "\n",
       "        <a href=\"javascript:code_toggle_132653199290396314()\">load map event based on drop down list selection </a>\n",
       "    "
      ],
      "text/plain": [
       "<IPython.core.display.HTML object>"
      ]
     },
     "execution_count": 18,
     "metadata": {},
     "output_type": "execute_result"
    }
   ],
   "source": [
    "#create drop down change the selection event handeler to change the map based on selection\n",
    "\n",
    "def ddl_BOROUGH_eventhandler(change):\n",
    "    plt.clf()\n",
    "    plt.close()\n",
    "    #clear out put everytime to avoid apeending \n",
    "    clear_output()\n",
    "    \n",
    "    #show the drop downlist \n",
    "    display(ddl_BOROUGH)\n",
    "    fig,ax=plt.subplots(figsize=(20,20))\n",
    "    \n",
    "    if (change.new == ALL or ddl_BOROUGH.value=='New York'):\n",
    "        #plotting new york map\n",
    "        nymap.plot(ax=ax,cmap='tab10' ) \n",
    "        nymap.boundary.plot(ax=ax, color='Black', linewidth=1)\n",
    "        geo_df.plot(column='C_Killed',ax=ax,markersize=20 ,marker='o',label='C_Killed')\n",
    "        geo_df.plot(column='C_Injured',ax=ax,markersize=20 ,marker='^',label='C_Injured')\n",
    "        \n",
    "    else:\n",
    "        #plotting new york map for filtered boro\n",
    "        #filter by boro name\n",
    "        nymap[nymap['boro_name']==ddl_BOROUGH.value].plot(ax=ax,cmap='GnBu' )\n",
    "        nymap[nymap['boro_name']==ddl_BOROUGH.value].boundary.plot(ax=ax, color='Black', linewidth=1)\n",
    "         \n",
    "        geo_df[geo_df['BOROUGH']==ddl_BOROUGH.value].plot(column='C_Killed',ax=ax,markersize=20 ,marker='o',label='C_Killed')\n",
    "        geo_df[geo_df['BOROUGH']==ddl_BOROUGH.value].plot(column='C_Injured',ax=ax,markersize=20 ,marker='^',label='C_Injured')\n",
    "    #show boro name on the map\n",
    "    nymap.apply(lambda x: ax.annotate(s=x.boro_name, xy=x.geometry.centroid.coords[0], ha='center', fontsize=20),axis=1)\n",
    "     \n",
    "  \n",
    "\n",
    "    #adding CreditShelf company as a water mark\n",
    "    ax.text(-0.05, 0.5, 'http://www.CreditShelf.com/', transform=ax.transAxes,\n",
    "            fontsize=20, color='gray', alpha=0.5,\n",
    "            ha='center', va='center', rotation='90')#plt.legend(property={size:15})\n",
    "    #remove x,y axis \n",
    "    ax.axis('off') \n",
    "    #put bounding_box limites for the map you can find any bounding_box using https://www.mapdevelopers.com/geocode_bounding_box.php\n",
    "    plt.xlim(- 74.15, - 73.7004)\n",
    "    plt.ylim( 40.5774,40.9176) \n",
    "\n",
    "#add change event handeler \n",
    "ddl_BOROUGH.observe(ddl_BOROUGH_eventhandler, names='value')\n",
    "\n",
    "hide_toggle('load map event based on drop down list selection ')"
   ]
  },
  {
   "cell_type": "code",
   "execution_count": 19,
   "metadata": {
    "scrolled": false
   },
   "outputs": [
    {
     "data": {
      "application/vnd.jupyter.widget-view+json": {
       "model_id": "605e815829084603903c5557f0f37177",
       "version_major": 2,
       "version_minor": 0
      },
      "text/plain": [
       "Dropdown(index=1, options=('ALL', 'New York', 'QUEENS', 'BRONX', 'MANHATTAN', 'BROOKLYN', 'STATEN ISLAND'), va…"
      ]
     },
     "metadata": {},
     "output_type": "display_data"
    }
   ],
   "source": [
    "display(ddl_BOROUGH)"
   ]
  }
 ],
 "metadata": {
  "kernelspec": {
   "display_name": "Python 3",
   "language": "python",
   "name": "python3"
  },
  "language_info": {
   "codemirror_mode": {
    "name": "ipython",
    "version": 3
   },
   "file_extension": ".py",
   "mimetype": "text/x-python",
   "name": "python",
   "nbconvert_exporter": "python",
   "pygments_lexer": "ipython3",
   "version": "3.7.9"
  }
 },
 "nbformat": 4,
 "nbformat_minor": 4
}
